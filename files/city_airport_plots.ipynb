{
 "cells": [
  {
   "cell_type": "code",
   "execution_count": 1,
   "id": "17003b81",
   "metadata": {},
   "outputs": [],
   "source": [
    "import pandas as pd\n",
    "import plotly.graph_objects as go"
   ]
  },
  {
   "cell_type": "code",
   "execution_count": 2,
   "id": "e1056390",
   "metadata": {},
   "outputs": [],
   "source": [
    "flights_de = pd.read_csv('../data/flight_data/flights_de.csv')"
   ]
  },
  {
   "cell_type": "markdown",
   "metadata": {},
   "source": [
    "Plotting the passenger flights between european continental cities"
   ]
  },
  {
   "cell_type": "code",
   "execution_count": 3,
   "id": "03152704",
   "metadata": {},
   "outputs": [],
   "source": [
    "fig = go.Figure()"
   ]
  },
  {
   "cell_type": "code",
   "execution_count": 4,
   "id": "997d91cb",
   "metadata": {},
   "outputs": [],
   "source": [
    "flight_paths = []\n",
    "for i in range(len(flights_de)):\n",
    "    fig.add_trace(\n",
    "        go.Scattergeo(\n",
    "            lon = [flights_de['dep_lon'][i], flights_de['arr_lon'][i]],\n",
    "            lat = [flights_de['dep_lat'][i], flights_de['arr_lat'][i]],\n",
    "            mode = 'lines',\n",
    "#             line = dict(width = ,color = '#f72585'),\n",
    "            line_width = float(flights_de['2022'][i]) / float(flights_de['2022'].max()) * 25,\n",
    "            line_color = '#f72585',\n",
    "            opacity = float(flights_de['2022'][i]) / float(flights_de['2022'].max())\n",
    "        )\n",
    "    )"
   ]
  },
  {
   "cell_type": "code",
   "execution_count": 5,
   "id": "20947a41",
   "metadata": {
    "scrolled": true
   },
   "outputs": [
    {
     "data": {
      "application/vnd.plotly.v1+json": {
       "config": {
        "plotlyServerURL": "https://plot.ly"
       },
       "data": [
        {
         "lat": [
          52.36652835,
          42.6955647
         ],
         "line": {
          "color": "#f72585",
          "width": 2.242866909216637
         },
         "lon": [
          13.488062884599568,
          23.41420825648208
         ],
         "mode": "lines",
         "opacity": 0.08971467636866548,
         "type": "scattergeo"
        },
        {
         "lat": [
          52.36652835,
          43.23393595
         ],
         "line": {
          "color": "#f72585",
          "width": 1.9003321965440558
         },
         "lon": [
          13.488062884599568,
          27.82334163112307
         ],
         "mode": "lines",
         "opacity": 0.07601328786176223,
         "type": "scattergeo"
        },
        {
         "lat": [
          52.36652835,
          50.02294325
         ],
         "line": {
          "color": "#f72585",
          "width": 25
         },
         "lon": [
          13.488062884599568,
          8.524937254258731
         ],
         "mode": "lines",
         "opacity": 1,
         "type": "scattergeo"
        },
        {
         "lat": [
          52.36652835,
          50.86778175
         ],
         "line": {
          "color": "#f72585",
          "width": 6.206265372193715
         },
         "lon": [
          13.488062884599568,
          7.138960985502128
         ],
         "mode": "lines",
         "opacity": 0.2482506148877486,
         "type": "scattergeo"
        },
        {
         "lat": [
          52.36652835,
          51.28723045
         ],
         "line": {
          "color": "#f72585",
          "width": 5.405560706904816
         },
         "lon": [
          13.488062884599568,
          6.762062530647745
         ],
         "mode": "lines",
         "opacity": 0.21622242827619265,
         "type": "scattergeo"
        },
        {
         "lat": [
          52.36652835,
          48.3539625
         ],
         "line": {
          "color": "#f72585",
          "width": 18.471164121987442
         },
         "lon": [
          13.488062884599568,
          11.778592469106236
         ],
         "mode": "lines",
         "opacity": 0.7388465648794977,
         "type": "scattergeo"
        },
        {
         "lat": [
          52.36652835,
          48.68842195
         ],
         "line": {
          "color": "#f72585",
          "width": 6.747140673744097
         },
         "lon": [
          13.488062884599568,
          9.205392504886913
         ],
         "mode": "lines",
         "opacity": 0.26988562694976387,
         "type": "scattergeo"
        },
        {
         "lat": [
          52.36652835,
          37.9372535
         ],
         "line": {
          "color": "#f72585",
          "width": 5.533351275744741
         },
         "lon": [
          13.488062884599568,
          23.95462175657147
         ],
         "mode": "lines",
         "opacity": 0.22133405102978965,
         "type": "scattergeo"
        },
        {
         "lat": [
          52.36652835,
          36.6892737
         ],
         "line": {
          "color": "#f72585",
          "width": 4.4923148853912105
         },
         "lon": [
          13.488062884599568,
          3.3611126
         ],
         "mode": "lines",
         "opacity": 0.17969259541564842,
         "type": "scattergeo"
        },
        {
         "lat": [
          52.36652835,
          41.29694395
         ],
         "line": {
          "color": "#f72585",
          "width": 10.94888180796643
         },
         "lon": [
          13.488062884599568,
          2.079047362981321
         ],
         "mode": "lines",
         "opacity": 0.4379552723186572,
         "type": "scattergeo"
        },
        {
         "lat": [
          52.36652835,
          38.87294785
         ],
         "line": {
          "color": "#f72585",
          "width": 2.026231936444574
         },
         "lon": [
          13.488062884599568,
          1.370372414235323
         ],
         "mode": "lines",
         "opacity": 0.08104927745778295,
         "type": "scattergeo"
        },
        {
         "lat": [
          52.36652835,
          40.4952269
         ],
         "line": {
          "color": "#f72585",
          "width": 10.506845291885053
         },
         "lon": [
          13.488062884599568,
          -3.573372944738505
         ],
         "mode": "lines",
         "opacity": 0.4202738116754021,
         "type": "scattergeo"
        },
        {
         "lat": [
          52.36652835,
          36.67854455
         ],
         "line": {
          "color": "#f72585",
          "width": 4.484874350733543
         },
         "lon": [
          13.488062884599568,
          -4.499675681372699
         ],
         "mode": "lines",
         "opacity": 0.17939497402934174,
         "type": "scattergeo"
        },
        {
         "lat": [
          52.36652835,
          39.49152155
         ],
         "line": {
          "color": "#f72585",
          "width": 1.9440668243503407
         },
         "lon": [
          13.488062884599568,
          -0.4739026334391784
         ],
         "mode": "lines",
         "opacity": 0.07776267297401362,
         "type": "scattergeo"
        },
        {
         "lat": [
          52.36652835,
          43.4375155
         ],
         "line": {
          "color": "#f72585",
          "width": 1.9071833819219075
         },
         "lon": [
          13.488062884599568,
          5.213025909827175
         ],
         "mode": "lines",
         "opacity": 0.0762873352768763,
         "type": "scattergeo"
        },
        {
         "lat": [
          52.36652835,
          43.65980345
         ],
         "line": {
          "color": "#f72585",
          "width": 2.4559903425298013
         },
         "lon": [
          13.488062884599568,
          7.213706629141443
         ],
         "mode": "lines",
         "opacity": 0.09823961370119205,
         "type": "scattergeo"
        },
        {
         "lat": [
          52.36652835,
          49.0068908
         ],
         "line": {
          "color": "#f72585",
          "width": 15.798195019605684
         },
         "lon": [
          13.488062884599568,
          2.571081969101916
         ],
         "mode": "lines",
         "opacity": 0.6319278007842274,
         "type": "scattergeo"
        },
        {
         "lat": [
          52.36652835,
          48.73005725
         ],
         "line": {
          "color": "#f72585",
          "width": 5.333782875867326
         },
         "lon": [
          13.488062884599568,
          2.3678372321914303
         ],
         "mode": "lines",
         "opacity": 0.21335131503469304,
         "type": "scattergeo"
        },
        {
         "lat": [
          52.36652835,
          47.43527295
         ],
         "line": {
          "color": "#f72585",
          "width": 5.086280734564943
         },
         "lon": [
          13.488062884599568,
          19.2535105675693
         ],
         "mode": "lines",
         "opacity": 0.2034512293825977,
         "type": "scattergeo"
        },
        {
         "lat": [
          52.36652835,
          52.16306505
         ],
         "line": {
          "color": "#f72585",
          "width": 1.8992271666444023
         },
         "lon": [
          13.488062884599568,
          20.970814903702912
         ],
         "mode": "lines",
         "opacity": 0.07596908666577609,
         "type": "scattergeo"
        },
        {
         "lat": [
          52.36652835,
          37.0174596
         ],
         "line": {
          "color": "#f72585",
          "width": 2.6309779661949255
         },
         "lon": [
          13.488062884599568,
          -7.973933672397203
         ],
         "mode": "lines",
         "opacity": 0.10523911864779702,
         "type": "scattergeo"
        },
        {
         "lat": [
          52.36652835,
          41.248830350000006
         ],
         "line": {
          "color": "#f72585",
          "width": 2.8044185480005344
         },
         "lon": [
          13.488062884599568,
          -8.681037254488
         ],
         "mode": "lines",
         "opacity": 0.11217674192002138,
         "type": "scattergeo"
        },
        {
         "lat": [
          52.36652835,
          38.7809542
         ],
         "line": {
          "color": "#f72585",
          "width": 7.255920995764543
         },
         "lon": [
          13.488062884599568,
          -9.131900592219496
         ],
         "mode": "lines",
         "opacity": 0.29023683983058174,
         "type": "scattergeo"
        },
        {
         "hoverinfo": "none",
         "lat": [
          42.6955647,
          43.23393595,
          50.02294325,
          50.86778175,
          51.28723045,
          48.3539625,
          48.68842195,
          37.9372535,
          36.6892737,
          41.29694395,
          38.87294785,
          40.4952269,
          36.67854455,
          39.49152155,
          43.4375155,
          43.65980345,
          49.0068908,
          48.73005725,
          47.43527295,
          52.16306505,
          37.0174596,
          41.248830350000006,
          38.7809542
         ],
         "lon": [
          23.41420825648208,
          27.82334163112307,
          8.524937254258731,
          7.138960985502128,
          6.762062530647745,
          11.778592469106236,
          9.205392504886913,
          23.95462175657147,
          3.3611126,
          2.079047362981321,
          1.370372414235323,
          -3.573372944738505,
          -4.499675681372699,
          -0.4739026334391784,
          5.213025909827175,
          7.213706629141443,
          2.571081969101916,
          2.3678372321914303,
          19.2535105675693,
          20.970814903702912,
          -7.973933672397203,
          -8.681037254488,
          -9.131900592219496
         ],
         "marker": {
          "color": "#f72585",
          "size": 30
         },
         "type": "scattergeo"
        }
       ],
       "layout": {
        "template": {
         "data": {
          "bar": [
           {
            "error_x": {
             "color": "#2a3f5f"
            },
            "error_y": {
             "color": "#2a3f5f"
            },
            "marker": {
             "line": {
              "color": "#E5ECF6",
              "width": 0.5
             },
             "pattern": {
              "fillmode": "overlay",
              "size": 10,
              "solidity": 0.2
             }
            },
            "type": "bar"
           }
          ],
          "barpolar": [
           {
            "marker": {
             "line": {
              "color": "#E5ECF6",
              "width": 0.5
             },
             "pattern": {
              "fillmode": "overlay",
              "size": 10,
              "solidity": 0.2
             }
            },
            "type": "barpolar"
           }
          ],
          "carpet": [
           {
            "aaxis": {
             "endlinecolor": "#2a3f5f",
             "gridcolor": "white",
             "linecolor": "white",
             "minorgridcolor": "white",
             "startlinecolor": "#2a3f5f"
            },
            "baxis": {
             "endlinecolor": "#2a3f5f",
             "gridcolor": "white",
             "linecolor": "white",
             "minorgridcolor": "white",
             "startlinecolor": "#2a3f5f"
            },
            "type": "carpet"
           }
          ],
          "choropleth": [
           {
            "colorbar": {
             "outlinewidth": 0,
             "ticks": ""
            },
            "type": "choropleth"
           }
          ],
          "contour": [
           {
            "colorbar": {
             "outlinewidth": 0,
             "ticks": ""
            },
            "colorscale": [
             [
              0,
              "#0d0887"
             ],
             [
              0.1111111111111111,
              "#46039f"
             ],
             [
              0.2222222222222222,
              "#7201a8"
             ],
             [
              0.3333333333333333,
              "#9c179e"
             ],
             [
              0.4444444444444444,
              "#bd3786"
             ],
             [
              0.5555555555555556,
              "#d8576b"
             ],
             [
              0.6666666666666666,
              "#ed7953"
             ],
             [
              0.7777777777777778,
              "#fb9f3a"
             ],
             [
              0.8888888888888888,
              "#fdca26"
             ],
             [
              1,
              "#f0f921"
             ]
            ],
            "type": "contour"
           }
          ],
          "contourcarpet": [
           {
            "colorbar": {
             "outlinewidth": 0,
             "ticks": ""
            },
            "type": "contourcarpet"
           }
          ],
          "heatmap": [
           {
            "colorbar": {
             "outlinewidth": 0,
             "ticks": ""
            },
            "colorscale": [
             [
              0,
              "#0d0887"
             ],
             [
              0.1111111111111111,
              "#46039f"
             ],
             [
              0.2222222222222222,
              "#7201a8"
             ],
             [
              0.3333333333333333,
              "#9c179e"
             ],
             [
              0.4444444444444444,
              "#bd3786"
             ],
             [
              0.5555555555555556,
              "#d8576b"
             ],
             [
              0.6666666666666666,
              "#ed7953"
             ],
             [
              0.7777777777777778,
              "#fb9f3a"
             ],
             [
              0.8888888888888888,
              "#fdca26"
             ],
             [
              1,
              "#f0f921"
             ]
            ],
            "type": "heatmap"
           }
          ],
          "heatmapgl": [
           {
            "colorbar": {
             "outlinewidth": 0,
             "ticks": ""
            },
            "colorscale": [
             [
              0,
              "#0d0887"
             ],
             [
              0.1111111111111111,
              "#46039f"
             ],
             [
              0.2222222222222222,
              "#7201a8"
             ],
             [
              0.3333333333333333,
              "#9c179e"
             ],
             [
              0.4444444444444444,
              "#bd3786"
             ],
             [
              0.5555555555555556,
              "#d8576b"
             ],
             [
              0.6666666666666666,
              "#ed7953"
             ],
             [
              0.7777777777777778,
              "#fb9f3a"
             ],
             [
              0.8888888888888888,
              "#fdca26"
             ],
             [
              1,
              "#f0f921"
             ]
            ],
            "type": "heatmapgl"
           }
          ],
          "histogram": [
           {
            "marker": {
             "pattern": {
              "fillmode": "overlay",
              "size": 10,
              "solidity": 0.2
             }
            },
            "type": "histogram"
           }
          ],
          "histogram2d": [
           {
            "colorbar": {
             "outlinewidth": 0,
             "ticks": ""
            },
            "colorscale": [
             [
              0,
              "#0d0887"
             ],
             [
              0.1111111111111111,
              "#46039f"
             ],
             [
              0.2222222222222222,
              "#7201a8"
             ],
             [
              0.3333333333333333,
              "#9c179e"
             ],
             [
              0.4444444444444444,
              "#bd3786"
             ],
             [
              0.5555555555555556,
              "#d8576b"
             ],
             [
              0.6666666666666666,
              "#ed7953"
             ],
             [
              0.7777777777777778,
              "#fb9f3a"
             ],
             [
              0.8888888888888888,
              "#fdca26"
             ],
             [
              1,
              "#f0f921"
             ]
            ],
            "type": "histogram2d"
           }
          ],
          "histogram2dcontour": [
           {
            "colorbar": {
             "outlinewidth": 0,
             "ticks": ""
            },
            "colorscale": [
             [
              0,
              "#0d0887"
             ],
             [
              0.1111111111111111,
              "#46039f"
             ],
             [
              0.2222222222222222,
              "#7201a8"
             ],
             [
              0.3333333333333333,
              "#9c179e"
             ],
             [
              0.4444444444444444,
              "#bd3786"
             ],
             [
              0.5555555555555556,
              "#d8576b"
             ],
             [
              0.6666666666666666,
              "#ed7953"
             ],
             [
              0.7777777777777778,
              "#fb9f3a"
             ],
             [
              0.8888888888888888,
              "#fdca26"
             ],
             [
              1,
              "#f0f921"
             ]
            ],
            "type": "histogram2dcontour"
           }
          ],
          "mesh3d": [
           {
            "colorbar": {
             "outlinewidth": 0,
             "ticks": ""
            },
            "type": "mesh3d"
           }
          ],
          "parcoords": [
           {
            "line": {
             "colorbar": {
              "outlinewidth": 0,
              "ticks": ""
             }
            },
            "type": "parcoords"
           }
          ],
          "pie": [
           {
            "automargin": true,
            "type": "pie"
           }
          ],
          "scatter": [
           {
            "fillpattern": {
             "fillmode": "overlay",
             "size": 10,
             "solidity": 0.2
            },
            "type": "scatter"
           }
          ],
          "scatter3d": [
           {
            "line": {
             "colorbar": {
              "outlinewidth": 0,
              "ticks": ""
             }
            },
            "marker": {
             "colorbar": {
              "outlinewidth": 0,
              "ticks": ""
             }
            },
            "type": "scatter3d"
           }
          ],
          "scattercarpet": [
           {
            "marker": {
             "colorbar": {
              "outlinewidth": 0,
              "ticks": ""
             }
            },
            "type": "scattercarpet"
           }
          ],
          "scattergeo": [
           {
            "marker": {
             "colorbar": {
              "outlinewidth": 0,
              "ticks": ""
             }
            },
            "type": "scattergeo"
           }
          ],
          "scattergl": [
           {
            "marker": {
             "colorbar": {
              "outlinewidth": 0,
              "ticks": ""
             }
            },
            "type": "scattergl"
           }
          ],
          "scattermapbox": [
           {
            "marker": {
             "colorbar": {
              "outlinewidth": 0,
              "ticks": ""
             }
            },
            "type": "scattermapbox"
           }
          ],
          "scatterpolar": [
           {
            "marker": {
             "colorbar": {
              "outlinewidth": 0,
              "ticks": ""
             }
            },
            "type": "scatterpolar"
           }
          ],
          "scatterpolargl": [
           {
            "marker": {
             "colorbar": {
              "outlinewidth": 0,
              "ticks": ""
             }
            },
            "type": "scatterpolargl"
           }
          ],
          "scatterternary": [
           {
            "marker": {
             "colorbar": {
              "outlinewidth": 0,
              "ticks": ""
             }
            },
            "type": "scatterternary"
           }
          ],
          "surface": [
           {
            "colorbar": {
             "outlinewidth": 0,
             "ticks": ""
            },
            "colorscale": [
             [
              0,
              "#0d0887"
             ],
             [
              0.1111111111111111,
              "#46039f"
             ],
             [
              0.2222222222222222,
              "#7201a8"
             ],
             [
              0.3333333333333333,
              "#9c179e"
             ],
             [
              0.4444444444444444,
              "#bd3786"
             ],
             [
              0.5555555555555556,
              "#d8576b"
             ],
             [
              0.6666666666666666,
              "#ed7953"
             ],
             [
              0.7777777777777778,
              "#fb9f3a"
             ],
             [
              0.8888888888888888,
              "#fdca26"
             ],
             [
              1,
              "#f0f921"
             ]
            ],
            "type": "surface"
           }
          ],
          "table": [
           {
            "cells": {
             "fill": {
              "color": "#EBF0F8"
             },
             "line": {
              "color": "white"
             }
            },
            "header": {
             "fill": {
              "color": "#C8D4E3"
             },
             "line": {
              "color": "white"
             }
            },
            "type": "table"
           }
          ]
         },
         "layout": {
          "annotationdefaults": {
           "arrowcolor": "#2a3f5f",
           "arrowhead": 0,
           "arrowwidth": 1
          },
          "autotypenumbers": "strict",
          "coloraxis": {
           "colorbar": {
            "outlinewidth": 0,
            "ticks": ""
           }
          },
          "colorscale": {
           "diverging": [
            [
             0,
             "#8e0152"
            ],
            [
             0.1,
             "#c51b7d"
            ],
            [
             0.2,
             "#de77ae"
            ],
            [
             0.3,
             "#f1b6da"
            ],
            [
             0.4,
             "#fde0ef"
            ],
            [
             0.5,
             "#f7f7f7"
            ],
            [
             0.6,
             "#e6f5d0"
            ],
            [
             0.7,
             "#b8e186"
            ],
            [
             0.8,
             "#7fbc41"
            ],
            [
             0.9,
             "#4d9221"
            ],
            [
             1,
             "#276419"
            ]
           ],
           "sequential": [
            [
             0,
             "#0d0887"
            ],
            [
             0.1111111111111111,
             "#46039f"
            ],
            [
             0.2222222222222222,
             "#7201a8"
            ],
            [
             0.3333333333333333,
             "#9c179e"
            ],
            [
             0.4444444444444444,
             "#bd3786"
            ],
            [
             0.5555555555555556,
             "#d8576b"
            ],
            [
             0.6666666666666666,
             "#ed7953"
            ],
            [
             0.7777777777777778,
             "#fb9f3a"
            ],
            [
             0.8888888888888888,
             "#fdca26"
            ],
            [
             1,
             "#f0f921"
            ]
           ],
           "sequentialminus": [
            [
             0,
             "#0d0887"
            ],
            [
             0.1111111111111111,
             "#46039f"
            ],
            [
             0.2222222222222222,
             "#7201a8"
            ],
            [
             0.3333333333333333,
             "#9c179e"
            ],
            [
             0.4444444444444444,
             "#bd3786"
            ],
            [
             0.5555555555555556,
             "#d8576b"
            ],
            [
             0.6666666666666666,
             "#ed7953"
            ],
            [
             0.7777777777777778,
             "#fb9f3a"
            ],
            [
             0.8888888888888888,
             "#fdca26"
            ],
            [
             1,
             "#f0f921"
            ]
           ]
          },
          "colorway": [
           "#636efa",
           "#EF553B",
           "#00cc96",
           "#ab63fa",
           "#FFA15A",
           "#19d3f3",
           "#FF6692",
           "#B6E880",
           "#FF97FF",
           "#FECB52"
          ],
          "font": {
           "color": "#2a3f5f"
          },
          "geo": {
           "bgcolor": "white",
           "lakecolor": "white",
           "landcolor": "#E5ECF6",
           "showlakes": true,
           "showland": true,
           "subunitcolor": "white"
          },
          "hoverlabel": {
           "align": "left"
          },
          "hovermode": "closest",
          "mapbox": {
           "style": "light"
          },
          "paper_bgcolor": "white",
          "plot_bgcolor": "#E5ECF6",
          "polar": {
           "angularaxis": {
            "gridcolor": "white",
            "linecolor": "white",
            "ticks": ""
           },
           "bgcolor": "#E5ECF6",
           "radialaxis": {
            "gridcolor": "white",
            "linecolor": "white",
            "ticks": ""
           }
          },
          "scene": {
           "xaxis": {
            "backgroundcolor": "#E5ECF6",
            "gridcolor": "white",
            "gridwidth": 2,
            "linecolor": "white",
            "showbackground": true,
            "ticks": "",
            "zerolinecolor": "white"
           },
           "yaxis": {
            "backgroundcolor": "#E5ECF6",
            "gridcolor": "white",
            "gridwidth": 2,
            "linecolor": "white",
            "showbackground": true,
            "ticks": "",
            "zerolinecolor": "white"
           },
           "zaxis": {
            "backgroundcolor": "#E5ECF6",
            "gridcolor": "white",
            "gridwidth": 2,
            "linecolor": "white",
            "showbackground": true,
            "ticks": "",
            "zerolinecolor": "white"
           }
          },
          "shapedefaults": {
           "line": {
            "color": "#2a3f5f"
           }
          },
          "ternary": {
           "aaxis": {
            "gridcolor": "white",
            "linecolor": "white",
            "ticks": ""
           },
           "baxis": {
            "gridcolor": "white",
            "linecolor": "white",
            "ticks": ""
           },
           "bgcolor": "#E5ECF6",
           "caxis": {
            "gridcolor": "white",
            "linecolor": "white",
            "ticks": ""
           }
          },
          "title": {
           "x": 0.05
          },
          "xaxis": {
           "automargin": true,
           "gridcolor": "white",
           "linecolor": "white",
           "ticks": "",
           "title": {
            "standoff": 15
           },
           "zerolinecolor": "white",
           "zerolinewidth": 2
          },
          "yaxis": {
           "automargin": true,
           "gridcolor": "white",
           "linecolor": "white",
           "ticks": "",
           "title": {
            "standoff": 15
           },
           "zerolinecolor": "white",
           "zerolinewidth": 2
          }
         }
        }
       }
      }
     },
     "metadata": {},
     "output_type": "display_data"
    }
   ],
   "source": [
    "fig.add_trace(\n",
    "    go.Scattergeo(\n",
    "        lon = flights_de['arr_lon'],\n",
    "        lat = flights_de['arr_lat'],\n",
    "        hoverinfo = 'none',\n",
    "        marker_size = 30,\n",
    "        marker_color = '#f72585',\n",
    "        )\n",
    "    )"
   ]
  },
  {
   "cell_type": "code",
   "execution_count": 6,
   "id": "e6c74d6e",
   "metadata": {},
   "outputs": [
    {
     "data": {
      "application/vnd.plotly.v1+json": {
       "config": {
        "plotlyServerURL": "https://plot.ly"
       },
       "data": [
        {
         "lat": [
          52.36652835,
          42.6955647
         ],
         "line": {
          "color": "#f72585",
          "width": 2.242866909216637
         },
         "lon": [
          13.488062884599568,
          23.41420825648208
         ],
         "mode": "lines",
         "opacity": 0.08971467636866548,
         "type": "scattergeo"
        },
        {
         "lat": [
          52.36652835,
          43.23393595
         ],
         "line": {
          "color": "#f72585",
          "width": 1.9003321965440558
         },
         "lon": [
          13.488062884599568,
          27.82334163112307
         ],
         "mode": "lines",
         "opacity": 0.07601328786176223,
         "type": "scattergeo"
        },
        {
         "lat": [
          52.36652835,
          50.02294325
         ],
         "line": {
          "color": "#f72585",
          "width": 25
         },
         "lon": [
          13.488062884599568,
          8.524937254258731
         ],
         "mode": "lines",
         "opacity": 1,
         "type": "scattergeo"
        },
        {
         "lat": [
          52.36652835,
          50.86778175
         ],
         "line": {
          "color": "#f72585",
          "width": 6.206265372193715
         },
         "lon": [
          13.488062884599568,
          7.138960985502128
         ],
         "mode": "lines",
         "opacity": 0.2482506148877486,
         "type": "scattergeo"
        },
        {
         "lat": [
          52.36652835,
          51.28723045
         ],
         "line": {
          "color": "#f72585",
          "width": 5.405560706904816
         },
         "lon": [
          13.488062884599568,
          6.762062530647745
         ],
         "mode": "lines",
         "opacity": 0.21622242827619265,
         "type": "scattergeo"
        },
        {
         "lat": [
          52.36652835,
          48.3539625
         ],
         "line": {
          "color": "#f72585",
          "width": 18.471164121987442
         },
         "lon": [
          13.488062884599568,
          11.778592469106236
         ],
         "mode": "lines",
         "opacity": 0.7388465648794977,
         "type": "scattergeo"
        },
        {
         "lat": [
          52.36652835,
          48.68842195
         ],
         "line": {
          "color": "#f72585",
          "width": 6.747140673744097
         },
         "lon": [
          13.488062884599568,
          9.205392504886913
         ],
         "mode": "lines",
         "opacity": 0.26988562694976387,
         "type": "scattergeo"
        },
        {
         "lat": [
          52.36652835,
          37.9372535
         ],
         "line": {
          "color": "#f72585",
          "width": 5.533351275744741
         },
         "lon": [
          13.488062884599568,
          23.95462175657147
         ],
         "mode": "lines",
         "opacity": 0.22133405102978965,
         "type": "scattergeo"
        },
        {
         "lat": [
          52.36652835,
          36.6892737
         ],
         "line": {
          "color": "#f72585",
          "width": 4.4923148853912105
         },
         "lon": [
          13.488062884599568,
          3.3611126
         ],
         "mode": "lines",
         "opacity": 0.17969259541564842,
         "type": "scattergeo"
        },
        {
         "lat": [
          52.36652835,
          41.29694395
         ],
         "line": {
          "color": "#f72585",
          "width": 10.94888180796643
         },
         "lon": [
          13.488062884599568,
          2.079047362981321
         ],
         "mode": "lines",
         "opacity": 0.4379552723186572,
         "type": "scattergeo"
        },
        {
         "lat": [
          52.36652835,
          38.87294785
         ],
         "line": {
          "color": "#f72585",
          "width": 2.026231936444574
         },
         "lon": [
          13.488062884599568,
          1.370372414235323
         ],
         "mode": "lines",
         "opacity": 0.08104927745778295,
         "type": "scattergeo"
        },
        {
         "lat": [
          52.36652835,
          40.4952269
         ],
         "line": {
          "color": "#f72585",
          "width": 10.506845291885053
         },
         "lon": [
          13.488062884599568,
          -3.573372944738505
         ],
         "mode": "lines",
         "opacity": 0.4202738116754021,
         "type": "scattergeo"
        },
        {
         "lat": [
          52.36652835,
          36.67854455
         ],
         "line": {
          "color": "#f72585",
          "width": 4.484874350733543
         },
         "lon": [
          13.488062884599568,
          -4.499675681372699
         ],
         "mode": "lines",
         "opacity": 0.17939497402934174,
         "type": "scattergeo"
        },
        {
         "lat": [
          52.36652835,
          39.49152155
         ],
         "line": {
          "color": "#f72585",
          "width": 1.9440668243503407
         },
         "lon": [
          13.488062884599568,
          -0.4739026334391784
         ],
         "mode": "lines",
         "opacity": 0.07776267297401362,
         "type": "scattergeo"
        },
        {
         "lat": [
          52.36652835,
          43.4375155
         ],
         "line": {
          "color": "#f72585",
          "width": 1.9071833819219075
         },
         "lon": [
          13.488062884599568,
          5.213025909827175
         ],
         "mode": "lines",
         "opacity": 0.0762873352768763,
         "type": "scattergeo"
        },
        {
         "lat": [
          52.36652835,
          43.65980345
         ],
         "line": {
          "color": "#f72585",
          "width": 2.4559903425298013
         },
         "lon": [
          13.488062884599568,
          7.213706629141443
         ],
         "mode": "lines",
         "opacity": 0.09823961370119205,
         "type": "scattergeo"
        },
        {
         "lat": [
          52.36652835,
          49.0068908
         ],
         "line": {
          "color": "#f72585",
          "width": 15.798195019605684
         },
         "lon": [
          13.488062884599568,
          2.571081969101916
         ],
         "mode": "lines",
         "opacity": 0.6319278007842274,
         "type": "scattergeo"
        },
        {
         "lat": [
          52.36652835,
          48.73005725
         ],
         "line": {
          "color": "#f72585",
          "width": 5.333782875867326
         },
         "lon": [
          13.488062884599568,
          2.3678372321914303
         ],
         "mode": "lines",
         "opacity": 0.21335131503469304,
         "type": "scattergeo"
        },
        {
         "lat": [
          52.36652835,
          47.43527295
         ],
         "line": {
          "color": "#f72585",
          "width": 5.086280734564943
         },
         "lon": [
          13.488062884599568,
          19.2535105675693
         ],
         "mode": "lines",
         "opacity": 0.2034512293825977,
         "type": "scattergeo"
        },
        {
         "lat": [
          52.36652835,
          52.16306505
         ],
         "line": {
          "color": "#f72585",
          "width": 1.8992271666444023
         },
         "lon": [
          13.488062884599568,
          20.970814903702912
         ],
         "mode": "lines",
         "opacity": 0.07596908666577609,
         "type": "scattergeo"
        },
        {
         "lat": [
          52.36652835,
          37.0174596
         ],
         "line": {
          "color": "#f72585",
          "width": 2.6309779661949255
         },
         "lon": [
          13.488062884599568,
          -7.973933672397203
         ],
         "mode": "lines",
         "opacity": 0.10523911864779702,
         "type": "scattergeo"
        },
        {
         "lat": [
          52.36652835,
          41.248830350000006
         ],
         "line": {
          "color": "#f72585",
          "width": 2.8044185480005344
         },
         "lon": [
          13.488062884599568,
          -8.681037254488
         ],
         "mode": "lines",
         "opacity": 0.11217674192002138,
         "type": "scattergeo"
        },
        {
         "lat": [
          52.36652835,
          38.7809542
         ],
         "line": {
          "color": "#f72585",
          "width": 7.255920995764543
         },
         "lon": [
          13.488062884599568,
          -9.131900592219496
         ],
         "mode": "lines",
         "opacity": 0.29023683983058174,
         "type": "scattergeo"
        },
        {
         "hoverinfo": "none",
         "lat": [
          42.6955647,
          43.23393595,
          50.02294325,
          50.86778175,
          51.28723045,
          48.3539625,
          48.68842195,
          37.9372535,
          36.6892737,
          41.29694395,
          38.87294785,
          40.4952269,
          36.67854455,
          39.49152155,
          43.4375155,
          43.65980345,
          49.0068908,
          48.73005725,
          47.43527295,
          52.16306505,
          37.0174596,
          41.248830350000006,
          38.7809542
         ],
         "lon": [
          23.41420825648208,
          27.82334163112307,
          8.524937254258731,
          7.138960985502128,
          6.762062530647745,
          11.778592469106236,
          9.205392504886913,
          23.95462175657147,
          3.3611126,
          2.079047362981321,
          1.370372414235323,
          -3.573372944738505,
          -4.499675681372699,
          -0.4739026334391784,
          5.213025909827175,
          7.213706629141443,
          2.571081969101916,
          2.3678372321914303,
          19.2535105675693,
          20.970814903702912,
          -7.973933672397203,
          -8.681037254488,
          -9.131900592219496
         ],
         "marker": {
          "color": "#f72585",
          "size": 30
         },
         "type": "scattergeo"
        }
       ],
       "layout": {
        "autosize": false,
        "geo": {
         "center": {
          "lat": 47.8,
          "lon": 13.045
         },
         "coastlinecolor": "#d9d9d9",
         "coastlinewidth": 5,
         "countrycolor": "#d9d9d9",
         "countrywidth": 5,
         "lakecolor": "#4cc9f0",
         "landcolor": "rgb(243, 243, 243)",
         "oceancolor": "#4cc9f0",
         "projection": {
          "scale": 10,
          "type": "azimuthal equidistant"
         },
         "resolution": 50,
         "rivercolor": "#4cc9f0",
         "riverwidth": 5,
         "scope": "world",
         "showcountries": true,
         "showframe": false,
         "showlakes": true,
         "showland": true,
         "showocean": true,
         "showrivers": true,
         "showsubunits": true,
         "subunitcolor": "#f2f2f2"
        },
        "height": 3000,
        "margin": {
         "autoexpand": true,
         "b": 0,
         "l": 0,
         "pad": 0,
         "r": 0,
         "t": 0
        },
        "showlegend": false,
        "template": {
         "data": {
          "bar": [
           {
            "error_x": {
             "color": "#2a3f5f"
            },
            "error_y": {
             "color": "#2a3f5f"
            },
            "marker": {
             "line": {
              "color": "#E5ECF6",
              "width": 0.5
             },
             "pattern": {
              "fillmode": "overlay",
              "size": 10,
              "solidity": 0.2
             }
            },
            "type": "bar"
           }
          ],
          "barpolar": [
           {
            "marker": {
             "line": {
              "color": "#E5ECF6",
              "width": 0.5
             },
             "pattern": {
              "fillmode": "overlay",
              "size": 10,
              "solidity": 0.2
             }
            },
            "type": "barpolar"
           }
          ],
          "carpet": [
           {
            "aaxis": {
             "endlinecolor": "#2a3f5f",
             "gridcolor": "white",
             "linecolor": "white",
             "minorgridcolor": "white",
             "startlinecolor": "#2a3f5f"
            },
            "baxis": {
             "endlinecolor": "#2a3f5f",
             "gridcolor": "white",
             "linecolor": "white",
             "minorgridcolor": "white",
             "startlinecolor": "#2a3f5f"
            },
            "type": "carpet"
           }
          ],
          "choropleth": [
           {
            "colorbar": {
             "outlinewidth": 0,
             "ticks": ""
            },
            "type": "choropleth"
           }
          ],
          "contour": [
           {
            "colorbar": {
             "outlinewidth": 0,
             "ticks": ""
            },
            "colorscale": [
             [
              0,
              "#0d0887"
             ],
             [
              0.1111111111111111,
              "#46039f"
             ],
             [
              0.2222222222222222,
              "#7201a8"
             ],
             [
              0.3333333333333333,
              "#9c179e"
             ],
             [
              0.4444444444444444,
              "#bd3786"
             ],
             [
              0.5555555555555556,
              "#d8576b"
             ],
             [
              0.6666666666666666,
              "#ed7953"
             ],
             [
              0.7777777777777778,
              "#fb9f3a"
             ],
             [
              0.8888888888888888,
              "#fdca26"
             ],
             [
              1,
              "#f0f921"
             ]
            ],
            "type": "contour"
           }
          ],
          "contourcarpet": [
           {
            "colorbar": {
             "outlinewidth": 0,
             "ticks": ""
            },
            "type": "contourcarpet"
           }
          ],
          "heatmap": [
           {
            "colorbar": {
             "outlinewidth": 0,
             "ticks": ""
            },
            "colorscale": [
             [
              0,
              "#0d0887"
             ],
             [
              0.1111111111111111,
              "#46039f"
             ],
             [
              0.2222222222222222,
              "#7201a8"
             ],
             [
              0.3333333333333333,
              "#9c179e"
             ],
             [
              0.4444444444444444,
              "#bd3786"
             ],
             [
              0.5555555555555556,
              "#d8576b"
             ],
             [
              0.6666666666666666,
              "#ed7953"
             ],
             [
              0.7777777777777778,
              "#fb9f3a"
             ],
             [
              0.8888888888888888,
              "#fdca26"
             ],
             [
              1,
              "#f0f921"
             ]
            ],
            "type": "heatmap"
           }
          ],
          "heatmapgl": [
           {
            "colorbar": {
             "outlinewidth": 0,
             "ticks": ""
            },
            "colorscale": [
             [
              0,
              "#0d0887"
             ],
             [
              0.1111111111111111,
              "#46039f"
             ],
             [
              0.2222222222222222,
              "#7201a8"
             ],
             [
              0.3333333333333333,
              "#9c179e"
             ],
             [
              0.4444444444444444,
              "#bd3786"
             ],
             [
              0.5555555555555556,
              "#d8576b"
             ],
             [
              0.6666666666666666,
              "#ed7953"
             ],
             [
              0.7777777777777778,
              "#fb9f3a"
             ],
             [
              0.8888888888888888,
              "#fdca26"
             ],
             [
              1,
              "#f0f921"
             ]
            ],
            "type": "heatmapgl"
           }
          ],
          "histogram": [
           {
            "marker": {
             "pattern": {
              "fillmode": "overlay",
              "size": 10,
              "solidity": 0.2
             }
            },
            "type": "histogram"
           }
          ],
          "histogram2d": [
           {
            "colorbar": {
             "outlinewidth": 0,
             "ticks": ""
            },
            "colorscale": [
             [
              0,
              "#0d0887"
             ],
             [
              0.1111111111111111,
              "#46039f"
             ],
             [
              0.2222222222222222,
              "#7201a8"
             ],
             [
              0.3333333333333333,
              "#9c179e"
             ],
             [
              0.4444444444444444,
              "#bd3786"
             ],
             [
              0.5555555555555556,
              "#d8576b"
             ],
             [
              0.6666666666666666,
              "#ed7953"
             ],
             [
              0.7777777777777778,
              "#fb9f3a"
             ],
             [
              0.8888888888888888,
              "#fdca26"
             ],
             [
              1,
              "#f0f921"
             ]
            ],
            "type": "histogram2d"
           }
          ],
          "histogram2dcontour": [
           {
            "colorbar": {
             "outlinewidth": 0,
             "ticks": ""
            },
            "colorscale": [
             [
              0,
              "#0d0887"
             ],
             [
              0.1111111111111111,
              "#46039f"
             ],
             [
              0.2222222222222222,
              "#7201a8"
             ],
             [
              0.3333333333333333,
              "#9c179e"
             ],
             [
              0.4444444444444444,
              "#bd3786"
             ],
             [
              0.5555555555555556,
              "#d8576b"
             ],
             [
              0.6666666666666666,
              "#ed7953"
             ],
             [
              0.7777777777777778,
              "#fb9f3a"
             ],
             [
              0.8888888888888888,
              "#fdca26"
             ],
             [
              1,
              "#f0f921"
             ]
            ],
            "type": "histogram2dcontour"
           }
          ],
          "mesh3d": [
           {
            "colorbar": {
             "outlinewidth": 0,
             "ticks": ""
            },
            "type": "mesh3d"
           }
          ],
          "parcoords": [
           {
            "line": {
             "colorbar": {
              "outlinewidth": 0,
              "ticks": ""
             }
            },
            "type": "parcoords"
           }
          ],
          "pie": [
           {
            "automargin": true,
            "type": "pie"
           }
          ],
          "scatter": [
           {
            "fillpattern": {
             "fillmode": "overlay",
             "size": 10,
             "solidity": 0.2
            },
            "type": "scatter"
           }
          ],
          "scatter3d": [
           {
            "line": {
             "colorbar": {
              "outlinewidth": 0,
              "ticks": ""
             }
            },
            "marker": {
             "colorbar": {
              "outlinewidth": 0,
              "ticks": ""
             }
            },
            "type": "scatter3d"
           }
          ],
          "scattercarpet": [
           {
            "marker": {
             "colorbar": {
              "outlinewidth": 0,
              "ticks": ""
             }
            },
            "type": "scattercarpet"
           }
          ],
          "scattergeo": [
           {
            "marker": {
             "colorbar": {
              "outlinewidth": 0,
              "ticks": ""
             }
            },
            "type": "scattergeo"
           }
          ],
          "scattergl": [
           {
            "marker": {
             "colorbar": {
              "outlinewidth": 0,
              "ticks": ""
             }
            },
            "type": "scattergl"
           }
          ],
          "scattermapbox": [
           {
            "marker": {
             "colorbar": {
              "outlinewidth": 0,
              "ticks": ""
             }
            },
            "type": "scattermapbox"
           }
          ],
          "scatterpolar": [
           {
            "marker": {
             "colorbar": {
              "outlinewidth": 0,
              "ticks": ""
             }
            },
            "type": "scatterpolar"
           }
          ],
          "scatterpolargl": [
           {
            "marker": {
             "colorbar": {
              "outlinewidth": 0,
              "ticks": ""
             }
            },
            "type": "scatterpolargl"
           }
          ],
          "scatterternary": [
           {
            "marker": {
             "colorbar": {
              "outlinewidth": 0,
              "ticks": ""
             }
            },
            "type": "scatterternary"
           }
          ],
          "surface": [
           {
            "colorbar": {
             "outlinewidth": 0,
             "ticks": ""
            },
            "colorscale": [
             [
              0,
              "#0d0887"
             ],
             [
              0.1111111111111111,
              "#46039f"
             ],
             [
              0.2222222222222222,
              "#7201a8"
             ],
             [
              0.3333333333333333,
              "#9c179e"
             ],
             [
              0.4444444444444444,
              "#bd3786"
             ],
             [
              0.5555555555555556,
              "#d8576b"
             ],
             [
              0.6666666666666666,
              "#ed7953"
             ],
             [
              0.7777777777777778,
              "#fb9f3a"
             ],
             [
              0.8888888888888888,
              "#fdca26"
             ],
             [
              1,
              "#f0f921"
             ]
            ],
            "type": "surface"
           }
          ],
          "table": [
           {
            "cells": {
             "fill": {
              "color": "#EBF0F8"
             },
             "line": {
              "color": "white"
             }
            },
            "header": {
             "fill": {
              "color": "#C8D4E3"
             },
             "line": {
              "color": "white"
             }
            },
            "type": "table"
           }
          ]
         },
         "layout": {
          "annotationdefaults": {
           "arrowcolor": "#2a3f5f",
           "arrowhead": 0,
           "arrowwidth": 1
          },
          "autotypenumbers": "strict",
          "coloraxis": {
           "colorbar": {
            "outlinewidth": 0,
            "ticks": ""
           }
          },
          "colorscale": {
           "diverging": [
            [
             0,
             "#8e0152"
            ],
            [
             0.1,
             "#c51b7d"
            ],
            [
             0.2,
             "#de77ae"
            ],
            [
             0.3,
             "#f1b6da"
            ],
            [
             0.4,
             "#fde0ef"
            ],
            [
             0.5,
             "#f7f7f7"
            ],
            [
             0.6,
             "#e6f5d0"
            ],
            [
             0.7,
             "#b8e186"
            ],
            [
             0.8,
             "#7fbc41"
            ],
            [
             0.9,
             "#4d9221"
            ],
            [
             1,
             "#276419"
            ]
           ],
           "sequential": [
            [
             0,
             "#0d0887"
            ],
            [
             0.1111111111111111,
             "#46039f"
            ],
            [
             0.2222222222222222,
             "#7201a8"
            ],
            [
             0.3333333333333333,
             "#9c179e"
            ],
            [
             0.4444444444444444,
             "#bd3786"
            ],
            [
             0.5555555555555556,
             "#d8576b"
            ],
            [
             0.6666666666666666,
             "#ed7953"
            ],
            [
             0.7777777777777778,
             "#fb9f3a"
            ],
            [
             0.8888888888888888,
             "#fdca26"
            ],
            [
             1,
             "#f0f921"
            ]
           ],
           "sequentialminus": [
            [
             0,
             "#0d0887"
            ],
            [
             0.1111111111111111,
             "#46039f"
            ],
            [
             0.2222222222222222,
             "#7201a8"
            ],
            [
             0.3333333333333333,
             "#9c179e"
            ],
            [
             0.4444444444444444,
             "#bd3786"
            ],
            [
             0.5555555555555556,
             "#d8576b"
            ],
            [
             0.6666666666666666,
             "#ed7953"
            ],
            [
             0.7777777777777778,
             "#fb9f3a"
            ],
            [
             0.8888888888888888,
             "#fdca26"
            ],
            [
             1,
             "#f0f921"
            ]
           ]
          },
          "colorway": [
           "#636efa",
           "#EF553B",
           "#00cc96",
           "#ab63fa",
           "#FFA15A",
           "#19d3f3",
           "#FF6692",
           "#B6E880",
           "#FF97FF",
           "#FECB52"
          ],
          "font": {
           "color": "#2a3f5f"
          },
          "geo": {
           "bgcolor": "white",
           "lakecolor": "white",
           "landcolor": "#E5ECF6",
           "showlakes": true,
           "showland": true,
           "subunitcolor": "white"
          },
          "hoverlabel": {
           "align": "left"
          },
          "hovermode": "closest",
          "mapbox": {
           "style": "light"
          },
          "paper_bgcolor": "white",
          "plot_bgcolor": "#E5ECF6",
          "polar": {
           "angularaxis": {
            "gridcolor": "white",
            "linecolor": "white",
            "ticks": ""
           },
           "bgcolor": "#E5ECF6",
           "radialaxis": {
            "gridcolor": "white",
            "linecolor": "white",
            "ticks": ""
           }
          },
          "scene": {
           "xaxis": {
            "backgroundcolor": "#E5ECF6",
            "gridcolor": "white",
            "gridwidth": 2,
            "linecolor": "white",
            "showbackground": true,
            "ticks": "",
            "zerolinecolor": "white"
           },
           "yaxis": {
            "backgroundcolor": "#E5ECF6",
            "gridcolor": "white",
            "gridwidth": 2,
            "linecolor": "white",
            "showbackground": true,
            "ticks": "",
            "zerolinecolor": "white"
           },
           "zaxis": {
            "backgroundcolor": "#E5ECF6",
            "gridcolor": "white",
            "gridwidth": 2,
            "linecolor": "white",
            "showbackground": true,
            "ticks": "",
            "zerolinecolor": "white"
           }
          },
          "shapedefaults": {
           "line": {
            "color": "#2a3f5f"
           }
          },
          "ternary": {
           "aaxis": {
            "gridcolor": "white",
            "linecolor": "white",
            "ticks": ""
           },
           "baxis": {
            "gridcolor": "white",
            "linecolor": "white",
            "ticks": ""
           },
           "bgcolor": "#E5ECF6",
           "caxis": {
            "gridcolor": "white",
            "linecolor": "white",
            "ticks": ""
           }
          },
          "title": {
           "x": 0.05
          },
          "xaxis": {
           "automargin": true,
           "gridcolor": "white",
           "linecolor": "white",
           "ticks": "",
           "title": {
            "standoff": 15
           },
           "zerolinecolor": "white",
           "zerolinewidth": 2
          },
          "yaxis": {
           "automargin": true,
           "gridcolor": "white",
           "linecolor": "white",
           "ticks": "",
           "title": {
            "standoff": 15
           },
           "zerolinecolor": "white",
           "zerolinewidth": 2
          }
         }
        },
        "width": 3000
       }
      }
     },
     "metadata": {},
     "output_type": "display_data"
    }
   ],
   "source": [
    "fig.update_layout(\n",
    "    autosize=False,\n",
    "    width=3000, height=3000,\n",
    "    margin=dict(l=0, r=0, b=0, t=0, pad=0, autoexpand=True),\n",
    "    showlegend = False,\n",
    "    geo = dict(\n",
    "        scope = 'world',\n",
    "        center = dict(lat=47.8, lon=13.045),\n",
    "        projection_type = 'azimuthal equidistant',\n",
    "        projection_scale = 10,\n",
    "        showcountries=True, countrycolor = '#d9d9d9', countrywidth = 5,\n",
    "        showsubunits=True, subunitcolor =  '#f2f2f2',\n",
    "        showland = True, landcolor = 'rgb(243, 243, 243)',\n",
    "        showocean=True, oceancolor = '#4cc9f0',\n",
    "        showlakes=True, lakecolor = '#4cc9f0',\n",
    "        showrivers=True, rivercolor = '#4cc9f0', riverwidth = 5,\n",
    "        coastlinewidth = 5, coastlinecolor = '#d9d9d9',\n",
    "        resolution=50,\n",
    "        showframe=False,\n",
    "    ),\n",
    ")"
   ]
  },
  {
   "cell_type": "code",
   "execution_count": 7,
   "id": "fb132210",
   "metadata": {},
   "outputs": [],
   "source": [
    "fig.write_image(\"../data/map_plots/flights_de.png\")"
   ]
  },
  {
   "cell_type": "code",
   "execution_count": null,
   "id": "8cfa50c2",
   "metadata": {},
   "outputs": [],
   "source": []
  }
 ],
 "metadata": {
  "kernelspec": {
   "display_name": "Python 3 (ipykernel)",
   "language": "python",
   "name": "python3"
  },
  "language_info": {
   "codemirror_mode": {
    "name": "ipython",
    "version": 3
   },
   "file_extension": ".py",
   "mimetype": "text/x-python",
   "name": "python",
   "nbconvert_exporter": "python",
   "pygments_lexer": "ipython3",
   "version": "3.10.10"
  }
 },
 "nbformat": 4,
 "nbformat_minor": 5
}
