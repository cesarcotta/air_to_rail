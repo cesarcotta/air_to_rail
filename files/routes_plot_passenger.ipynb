{
 "cells": [
  {
   "cell_type": "code",
   "execution_count": null,
   "id": "17003b81",
   "metadata": {},
   "outputs": [],
   "source": [
    "import pandas as pd\n",
    "import plotly.graph_objects as go\n",
    "import plotly.express as px"
   ]
  },
  {
   "cell_type": "markdown",
   "metadata": {},
   "source": [
    "Plot air traffic between selected continental europe cities"
   ]
  },
  {
   "cell_type": "code",
   "execution_count": null,
   "id": "e1056390",
   "metadata": {},
   "outputs": [],
   "source": [
    "route = pd.read_csv('../data/route.csv')"
   ]
  },
  {
   "cell_type": "code",
   "execution_count": null,
   "id": "44e109c2",
   "metadata": {},
   "outputs": [],
   "source": [
    "route"
   ]
  },
  {
   "cell_type": "code",
   "execution_count": null,
   "id": "03152704",
   "metadata": {},
   "outputs": [],
   "source": [
    "fig = go.Figure()"
   ]
  },
  {
   "cell_type": "code",
   "execution_count": null,
   "id": "997d91cb",
   "metadata": {},
   "outputs": [],
   "source": [
    "flight_paths = []\n",
    "for i in range(len(route)):\n",
    "    fig.add_trace(\n",
    "        go.Scattergeo(\n",
    "            lon = [route['or_long'][i], route['de_long'][i]],\n",
    "            lat = [route['or_lat'][i], route['de_lat'][i]],\n",
    "            mode = 'lines',\n",
    "            line_color = '#f72585',\n",
    "#             opacity = float(route['pass'][i]) / float(route['pass'].max()),\n",
    "            line_width = float(route['pass'][i]) / float(route['pass'].max()) * 50,\n",
    "\n",
    "        )\n",
    "    )"
   ]
  },
  {
   "cell_type": "code",
   "execution_count": null,
   "id": "5c5961a4",
   "metadata": {
    "scrolled": true
   },
   "outputs": [],
   "source": [
    "# for i in range(route):\n",
    "fig.add_trace(\n",
    "    go.Scattergeo(\n",
    "        lon = route['or_long'],\n",
    "        lat = route['or_lat'],\n",
    "        hoverinfo = 'none',\n",
    "#         marker_size = float(route['pop'][i]) / float(route['pop'].max()) * 150,\n",
    "        marker_size = 50,\n",
    "#         marker_sizemin = 25,\n",
    "        marker_color = '#f72585',\n",
    "#         mode = 'markers+text',\n",
    "#         text = route['origin']+'\\r\\n'+str.format(route['pop']/1000000, '.2f'),\n",
    "#         text = route['origin'],\n",
    "#         textfont = {'color':'#7209b7', 'family': 'Roboto, sans-serif'},\n",
    "#         textposition = 'top left',\n",
    "#             mode = 'lines',\n",
    "#             line = dict(width = 2,color = '#f72585'\n",
    "        )\n",
    "    )"
   ]
  },
  {
   "cell_type": "code",
   "execution_count": null,
   "id": "e6c74d6e",
   "metadata": {
    "scrolled": false
   },
   "outputs": [],
   "source": [
    "fig.update_layout(\n",
    "    autosize=False,\n",
    "    width=3000, height=3000,\n",
    "    margin=dict(l=0, r=0, b=0, t=0, pad=0, autoexpand=True),\n",
    "    showlegend = False,\n",
    "    geo = dict(\n",
    "        scope = 'world',\n",
    "        center = dict(lat=48.1375, lon=11.575),\n",
    "        projection_type = 'azimuthal equidistant',\n",
    "                projection_scale = 10,\n",
    "        showcountries=True, countrycolor = '#d9d9d9', countrywidth = 5,\n",
    "        showsubunits=True, subunitcolor =  '#f2f2f2',\n",
    "        showland = True, landcolor = 'rgb(243, 243, 243)',\n",
    "        showocean=True, oceancolor = '#4cc9f0',\n",
    "        showlakes=True, lakecolor = '#4cc9f0',\n",
    "        showrivers=True, rivercolor = '#4cc9f0', riverwidth = 5,\n",
    "        coastlinewidth = 5, coastlinecolor = '#d9d9d9',\n",
    "        resolution=50,\n",
    "        showframe=False,\n",
    "    ),\n",
    ")"
   ]
  },
  {
   "cell_type": "code",
   "execution_count": null,
   "id": "a4c330af",
   "metadata": {
    "scrolled": true
   },
   "outputs": [],
   "source": [
    "fig.show()"
   ]
  },
  {
   "cell_type": "code",
   "execution_count": null,
   "id": "fb132210",
   "metadata": {},
   "outputs": [],
   "source": [
    "fig.write_image(\"../data/map_plots/air traffic.png\")"
   ]
  },
  {
   "cell_type": "code",
   "execution_count": null,
   "id": "8cfa50c2",
   "metadata": {},
   "outputs": [],
   "source": []
  }
 ],
 "metadata": {
  "kernelspec": {
   "display_name": "Python 3 (ipykernel)",
   "language": "python",
   "name": "python3"
  },
  "language_info": {
   "codemirror_mode": {
    "name": "ipython",
    "version": 3
   },
   "file_extension": ".py",
   "mimetype": "text/x-python",
   "name": "python",
   "nbconvert_exporter": "python",
   "pygments_lexer": "ipython3",
   "version": "3.10.10"
  }
 },
 "nbformat": 4,
 "nbformat_minor": 5
}
